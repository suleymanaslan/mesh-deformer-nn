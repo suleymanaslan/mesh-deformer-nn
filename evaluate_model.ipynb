{
 "cells": [
  {
   "cell_type": "code",
   "execution_count": null,
   "metadata": {},
   "outputs": [],
   "source": [
    "%matplotlib inline\n",
    "import numpy as np\n",
    "import imageio\n",
    "import matplotlib.pyplot as plt\n",
    "from matplotlib.backends.backend_agg import FigureCanvasAgg as FigureCanvas\n",
    "import seaborn as sns\n",
    "\n",
    "sns.set_style(\"dark\")\n",
    "plt.style.use(\"dark_background\")\n",
    "\n",
    "import torch\n",
    "from pytorch3d.utils import ico_sphere\n",
    "\n",
    "import utils\n",
    "import models\n",
    "\n",
    "from IPython import display\n",
    "\n",
    "device = torch.device(\"cuda:0\")"
   ]
  },
  {
   "cell_type": "code",
   "execution_count": null,
   "metadata": {},
   "outputs": [],
   "source": [
    "folder_path = \"data/\"\n",
    "model_path = \"trained_models/model_1588703439/model_0.0519.pth\"\n",
    "plot_sample_ix = 0\n",
    "points_to_sample = 1000\n",
    "sphere_level = 3\n",
    "sphere_level_verts = {2: 162, 3: 642, 4: 2562}\n",
    "model_names = utils.get_model_names(folder_path, randomize=False)\n",
    "_, _, test_x, test_y = utils.read_data(model_names, folder_path, points_to_sample, sphere_level_verts[sphere_level])"
   ]
  },
  {
   "cell_type": "code",
   "execution_count": null,
   "metadata": {},
   "outputs": [],
   "source": [
    "model = models.PointNetCls(sphere_level_verts[sphere_level]).to(device)\n",
    "model.load_state_dict(torch.load(model_path))\n",
    "model.eval()"
   ]
  },
  {
   "cell_type": "code",
   "execution_count": null,
   "metadata": {},
   "outputs": [],
   "source": [
    "new_src_mesh = ico_sphere(sphere_level).offset_verts(test_y[plot_sample_ix])\n",
    "image_ref = utils.render_obj(new_src_mesh.verts_packed(), new_src_mesh.faces_packed(), distance=4, elevation=10.0, azimuth=60.0)\n",
    "fig, ax = plt.subplots(figsize=(5, 5))\n",
    "plt.axis('off')\n",
    "plt.imshow(image_ref.squeeze())"
   ]
  },
  {
   "cell_type": "code",
   "execution_count": null,
   "metadata": {},
   "outputs": [],
   "source": [
    "pred_deform_verts = model(torch.from_numpy(test_x[plot_sample_ix]).to(device).unsqueeze(0))\n",
    "new_src_mesh = ico_sphere(4).offset_verts(pred_deform_verts.detach().cpu().squeeze())\n",
    "image_ref = utils.render_obj(new_src_mesh.verts_packed(), new_src_mesh.faces_packed(), distance=2, elevation=10.0, azimuth=60.0)\n",
    "fig, ax = plt.subplots(figsize=(4, 4))\n",
    "plt.axis('off')\n",
    "plt.imshow(image_ref.squeeze())"
   ]
  },
  {
   "cell_type": "code",
   "execution_count": null,
   "metadata": {},
   "outputs": [],
   "source": [
    "mesh = utils.load_mesh(\"./meshes/SM_Env_TreeBirch_01.obj\")\n",
    "image_ref = utils.render_obj(mesh.verts_packed(), mesh.faces_packed(), distance=2, elevation=0.0, azimuth=0.0)\n",
    "fig, ax = plt.subplots(figsize=(4, 4))\n",
    "plt.axis('off')\n",
    "fig.patch.set_facecolor('black')\n",
    "plt.imshow(image_ref.squeeze())"
   ]
  },
  {
   "cell_type": "code",
   "execution_count": null,
   "metadata": {},
   "outputs": [],
   "source": [
    "mesh = utils.load_mesh(\"./meshes/SM_Icon_Balloon_01.obj\")\n",
    "anim_file = utils.animate_pointcloud(mesh, f\"outputs/SM_Icon_Balloon_01.gif\", points_to_sample, restore_anim=False)\n",
    "display.Image(filename=anim_file)"
   ]
  },
  {
   "cell_type": "code",
   "execution_count": null,
   "metadata": {},
   "outputs": [],
   "source": [
    "anim_file = f\"outputs/treebirch_mesh.gif\"\n",
    "frames = []\n",
    "for plot_i in range(24):\n",
    "    image_ref = utils.render_obj(mesh.verts_packed(), mesh.faces_packed(), distance=2, elevation=0.0, azimuth=-360*(plot_i/24))\n",
    "    fig, ax = plt.subplots(figsize=(5, 5))\n",
    "    canvas = FigureCanvas(fig)\n",
    "    plt.axis('off')\n",
    "    plt.imshow(image_ref.squeeze())\n",
    "    plt.close()\n",
    "    canvas.draw()\n",
    "    s, (width, height) = canvas.print_to_buffer()\n",
    "    frames.append(np.frombuffer(s, np.uint8).reshape((height, width, 4)))\n",
    "imageio.mimsave(anim_file, frames, 'GIF', fps=8)"
   ]
  },
  {
   "cell_type": "code",
   "execution_count": null,
   "metadata": {},
   "outputs": [],
   "source": [
    "display.Image(filename=anim_file)"
   ]
  },
  {
   "cell_type": "code",
   "execution_count": null,
   "metadata": {},
   "outputs": [],
   "source": [
    "image_ref = utils.render_obj(mesh.verts_packed(), mesh.faces_packed(), distance=2, elevation=0.0, azimuth=0.0)\n",
    "fig, ax = plt.subplots(figsize=(5, 5))\n",
    "plt.axis('off')\n",
    "fig.patch.set_facecolor('black')\n",
    "plt.imshow(image_ref.squeeze())"
   ]
  }
 ],
 "metadata": {
  "kernelspec": {
   "display_name": "Python 3",
   "language": "python",
   "name": "python3"
  },
  "language_info": {
   "codemirror_mode": {
    "name": "ipython",
    "version": 3
   },
   "file_extension": ".py",
   "mimetype": "text/x-python",
   "name": "python",
   "nbconvert_exporter": "python",
   "pygments_lexer": "ipython3",
   "version": "3.7.7"
  }
 },
 "nbformat": 4,
 "nbformat_minor": 4
}
