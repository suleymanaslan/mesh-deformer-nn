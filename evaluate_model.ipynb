{
 "cells": [
  {
   "cell_type": "code",
   "execution_count": null,
   "metadata": {},
   "outputs": [],
   "source": [
    "%matplotlib inline\n",
    "import matplotlib.pyplot as plt\n",
    "import seaborn as sns\n",
    "\n",
    "sns.set_style(\"dark\")\n",
    "plt.style.use(\"dark_background\")\n",
    "\n",
    "import torch\n",
    "from pytorch3d.utils import ico_sphere\n",
    "\n",
    "import utils\n",
    "import models\n",
    "\n",
    "device = torch.device(\"cuda:0\")"
   ]
  },
  {
   "cell_type": "code",
   "execution_count": null,
   "metadata": {},
   "outputs": [],
   "source": [
    "folder_path = \"data/\"\n",
    "model_path = \"trained_models/model_1587765146/model_0.1063.pth\"\n",
    "plot_sample_ix = 0\n",
    "model_names = utils.get_model_names(folder_path, randomize=False)\n",
    "_, _, test_x, test_y = utils.read_data(model_names, folder_path)"
   ]
  },
  {
   "cell_type": "code",
   "execution_count": null,
   "metadata": {},
   "outputs": [],
   "source": [
    "model = models.MLP().to(device)\n",
    "model.load_state_dict(torch.load(model_path))"
   ]
  },
  {
   "cell_type": "code",
   "execution_count": null,
   "metadata": {},
   "outputs": [],
   "source": [
    "new_src_mesh = ico_sphere(4).offset_verts(test_y[plot_sample_ix])\n",
    "image_ref = utils.render_obj(new_src_mesh.verts_packed(), new_src_mesh.faces_packed(), distance=2, elevation=10.0, azimuth=60.0)\n",
    "fig, ax = plt.subplots(figsize=(5, 5))\n",
    "plt.axis('off')\n",
    "plt.imshow(image_ref.squeeze())"
   ]
  },
  {
   "cell_type": "code",
   "execution_count": null,
   "metadata": {},
   "outputs": [],
   "source": [
    "pred_deform_verts = model(torch.from_numpy(test_x[plot_sample_ix]).to(device).unsqueeze(0))\n",
    "new_src_mesh = ico_sphere(4).offset_verts(pred_deform_verts.detach().cpu().squeeze())\n",
    "image_ref = utils.render_obj(new_src_mesh.verts_packed(), new_src_mesh.faces_packed(), distance=2, elevation=10.0, azimuth=60.0)\n",
    "fig, ax = plt.subplots(figsize=(4, 4))\n",
    "plt.axis('off')\n",
    "plt.imshow(image_ref.squeeze())"
   ]
  },
  {
   "cell_type": "code",
   "execution_count": null,
   "metadata": {},
   "outputs": [],
   "source": [
    "mesh = utils.load_mesh(\"./meshes/tree_large_mesh.obj\")\n",
    "image_ref = utils.render_obj(mesh.verts_packed(), mesh.faces_packed(), distance=1.5, elevation=45.0, azimuth=90.0)\n",
    "fig, ax = plt.subplots(figsize=(4, 4))\n",
    "plt.axis('off')\n",
    "fig.patch.set_facecolor('black')\n",
    "plt.imshow(image_ref.squeeze())"
   ]
  }
 ],
 "metadata": {
  "kernelspec": {
   "display_name": "pytorch3d",
   "language": "python",
   "name": "pytorch3d"
  },
  "language_info": {
   "codemirror_mode": {
    "name": "ipython",
    "version": 3
   },
   "file_extension": ".py",
   "mimetype": "text/x-python",
   "name": "python",
   "nbconvert_exporter": "python",
   "pygments_lexer": "ipython3",
   "version": "3.8.1"
  }
 },
 "nbformat": 4,
 "nbformat_minor": 4
}
