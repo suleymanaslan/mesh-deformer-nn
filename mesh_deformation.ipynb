{
 "cells": [
  {
   "cell_type": "code",
   "execution_count": null,
   "metadata": {},
   "outputs": [],
   "source": [
    "%matplotlib inline\n",
    "import os\n",
    "import tqdm\n",
    "import imageio\n",
    "import numpy as np\n",
    "import matplotlib.pyplot as plt\n",
    "from mpl_toolkits.mplot3d import Axes3D\n",
    "from matplotlib.backends.backend_agg import FigureCanvasAgg as FigureCanvas\n",
    "import seaborn as sns\n",
    "\n",
    "sns.set_style(\"dark\")\n",
    "plt.style.use(\"dark_background\")\n",
    "\n",
    "import torch\n",
    "\n",
    "from pytorch3d.utils import ico_sphere\n",
    "from pytorch3d.ops import sample_points_from_meshes\n",
    "from pytorch3d.loss import chamfer_distance, mesh_edge_loss, mesh_laplacian_smoothing, mesh_normal_consistency\n",
    "\n",
    "from IPython import display\n",
    "\n",
    "import utils"
   ]
  },
  {
   "cell_type": "code",
   "execution_count": null,
   "metadata": {},
   "outputs": [],
   "source": [
    "meshname0 = \"SM_Env_Plant_01\"\n",
    "meshname1 = \"SM_Env_TreeBirch_03\"\n",
    "\n",
    "mesh_list = [utils.load_mesh(f\"meshes/{meshname0}.obj\"),\n",
    "             utils.load_mesh(f\"meshes/{meshname1}.obj\")]\n",
    "\n",
    "points_to_sample = 500\n",
    "sphere_level = 2"
   ]
  },
  {
   "cell_type": "code",
   "execution_count": null,
   "metadata": {},
   "outputs": [],
   "source": [
    "def animate_pointcloud(mesh, anim_file, restore_anim=True):\n",
    "    if os.path.isfile(anim_file) and restore_anim:\n",
    "        return anim_file\n",
    "    frames = []\n",
    "    for plot_i in range(24):\n",
    "        points = sample_points_from_meshes(mesh, points_to_sample)\n",
    "        x, y, z = points.clone().detach().cpu().squeeze().unbind(1)    \n",
    "        fig = plt.figure(figsize=(5, 5))\n",
    "        canvas = FigureCanvas(fig)\n",
    "        ax = Axes3D(fig)\n",
    "        ax.scatter3D(x, z, -y)\n",
    "        ax.view_init(elev=190, azim=360*(plot_i/24))\n",
    "        plt.axis('off')\n",
    "        plt.close()\n",
    "        canvas.draw()\n",
    "        s, (width, height) = canvas.print_to_buffer()\n",
    "        frames.append(np.frombuffer(s, np.uint8).reshape((height, width, 4)))\n",
    "    imageio.mimsave(anim_file, frames, 'GIF', fps=8)\n",
    "    return anim_file"
   ]
  },
  {
   "cell_type": "code",
   "execution_count": null,
   "metadata": {},
   "outputs": [],
   "source": [
    "anim_file = animate_pointcloud(mesh_list[0], f\"outputs/{meshname0}.gif\")\n",
    "display.Image(filename=anim_file)"
   ]
  },
  {
   "cell_type": "code",
   "execution_count": null,
   "metadata": {},
   "outputs": [],
   "source": [
    "anim_file = animate_pointcloud(mesh_list[1], f\"outputs/{meshname1}.gif\")\n",
    "display.Image(filename=anim_file)"
   ]
  },
  {
   "cell_type": "code",
   "execution_count": null,
   "metadata": {
    "scrolled": true
   },
   "outputs": [],
   "source": [
    "device = torch.device(\"cuda:0\")\n",
    "target_mesh = mesh_list[0]\n",
    "\n",
    "src_mesh = ico_sphere(sphere_level, device)\n",
    "\n",
    "deform_verts = torch.full(src_mesh.verts_packed().shape, 0.0, device=device, requires_grad=True)\n",
    "\n",
    "learning_rate = 0.01\n",
    "num_iter = 500\n",
    "w_chamfer = 1.0 \n",
    "w_edge = 0.05\n",
    "w_normal = 0.0005\n",
    "w_laplacian = 0.005\n",
    "\n",
    "optimizer = torch.optim.Adam([deform_verts], lr=learning_rate, betas=(0.5, 0.999))\n",
    "    \n",
    "plot_period = 100\n",
    "loop = tqdm.notebook.tqdm(range(num_iter))\n",
    "\n",
    "chamfer_losses = []\n",
    "laplacian_losses = []\n",
    "edge_losses = []\n",
    "normal_losses = []\n",
    "\n",
    "plot_steps = np.linspace(0, num_iter-1, num=48, dtype=int)\n",
    "\n",
    "anim_frames = []\n",
    "\n",
    "for i in loop:\n",
    "    optimizer.zero_grad()\n",
    "\n",
    "    new_src_mesh = src_mesh.offset_verts(deform_verts)\n",
    "\n",
    "    sample_trg = sample_points_from_meshes(target_mesh, points_to_sample)\n",
    "    sample_src = sample_points_from_meshes(new_src_mesh, points_to_sample)\n",
    "\n",
    "    loss_chamfer, _ = chamfer_distance(sample_trg, sample_src)\n",
    "    loss_edge = mesh_edge_loss(new_src_mesh)\n",
    "    loss_normal = mesh_normal_consistency(new_src_mesh)\n",
    "    loss_laplacian = mesh_laplacian_smoothing(new_src_mesh, method=\"uniform\")\n",
    "    loss = loss_chamfer * w_chamfer + loss_edge * w_edge + loss_normal * w_normal + loss_laplacian * w_laplacian\n",
    "\n",
    "    loss.backward()\n",
    "    optimizer.step()\n",
    "    \n",
    "    loop.set_description('total_loss = %.6f' % loss)\n",
    "    \n",
    "    chamfer_losses.append(loss_chamfer)\n",
    "    edge_losses.append(loss_edge)\n",
    "    normal_losses.append(loss_normal)\n",
    "    laplacian_losses.append(loss_laplacian)\n",
    "        \n",
    "    if i in plot_steps:\n",
    "        plot_i = np.where(plot_steps == i)[0][0]\n",
    "        points = sample_points_from_meshes(new_src_mesh, points_to_sample)\n",
    "        x, y, z = points.clone().detach().cpu().squeeze().unbind(1)   \n",
    "        fig = plt.figure(figsize=(5, 5))\n",
    "        canvas = FigureCanvas(fig)\n",
    "        ax = Axes3D(fig)\n",
    "        ax.scatter3D(x, z, -y)\n",
    "        ax.view_init(elev=190, azim=360*(plot_i/24))\n",
    "        plt.axis('off')\n",
    "        plt.close()\n",
    "        canvas.draw()\n",
    "        s, (width, height) = canvas.print_to_buffer()\n",
    "        anim_frames.append(np.frombuffer(s, np.uint8).reshape((height, width, 4)))\n",
    "        \n",
    "imageio.mimsave(f\"outputs/optimization.gif\", anim_frames, 'GIF', fps=8)"
   ]
  },
  {
   "cell_type": "code",
   "execution_count": null,
   "metadata": {},
   "outputs": [],
   "source": [
    "anim_file = animate_pointcloud(new_src_mesh, f\"outputs/deformed_sphere.gif\", restore_anim=False)\n",
    "display.Image(filename=anim_file)"
   ]
  },
  {
   "cell_type": "code",
   "execution_count": null,
   "metadata": {},
   "outputs": [],
   "source": [
    "anim_file = animate_pointcloud(None, \"outputs/optimization.gif\")\n",
    "display.Image(filename=anim_file)"
   ]
  },
  {
   "cell_type": "code",
   "execution_count": null,
   "metadata": {},
   "outputs": [],
   "source": [
    "plt.figure(figsize=(10,5))\n",
    "plt.title(\"Loss\")\n",
    "plt.plot(chamfer_losses, label=\"chamfer\")\n",
    "plt.plot(edge_losses, label=\"edge\")\n",
    "plt.plot(normal_losses, label=\"normal\")\n",
    "plt.plot(laplacian_losses, label=\"laplacian\")\n",
    "plt.xlabel(\"iterations\")\n",
    "plt.ylabel(\"Loss\")\n",
    "plt.legend()\n",
    "plt.savefig(f\"outputs/loss.png\")\n",
    "plt.show()"
   ]
  }
 ],
 "metadata": {
  "kernelspec": {
   "display_name": "pytorch3d",
   "language": "python",
   "name": "pytorch3d"
  },
  "language_info": {
   "codemirror_mode": {
    "name": "ipython",
    "version": 3
   },
   "file_extension": ".py",
   "mimetype": "text/x-python",
   "name": "python",
   "nbconvert_exporter": "python",
   "pygments_lexer": "ipython3",
   "version": "3.8.1"
  }
 },
 "nbformat": 4,
 "nbformat_minor": 4
}
